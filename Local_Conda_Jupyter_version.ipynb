{
  "nbformat": 4,
  "nbformat_minor": 0,
  "metadata": {
    "kernelspec": {
      "display_name": "Python 3",
      "language": "python",
      "name": "python3"
    },
    "language_info": {
      "codemirror_mode": {
        "name": "ipython",
        "version": 3
      },
      "file_extension": ".py",
      "mimetype": "text/x-python",
      "name": "python",
      "nbconvert_exporter": "python",
      "pygments_lexer": "ipython3",
      "version": "3.7.6"
    },
    "colab": {
      "name": "Local-Conda-Jupyter_version.ipynb",
      "provenance": [],
      "toc_visible": true,
      "include_colab_link": true
    }
  },
  "cells": [
    {
      "cell_type": "markdown",
      "metadata": {
        "id": "view-in-github",
        "colab_type": "text"
      },
      "source": [
        "<a href=\"https://colab.research.google.com/github/jeaimehp/HPC-inthe-City-ExcellentCode/blob/master/Local_Conda_Jupyter_version.ipynb\" target=\"_parent\"><img src=\"https://colab.research.google.com/assets/colab-badge.svg\" alt=\"Open In Colab\"/></a>"
      ]
    },
    {
      "cell_type": "markdown",
      "metadata": {
        "id": "5evys8gCrkBx"
      },
      "source": [
        "# HPC in the City Jupyter Training\n",
        "\n",
        "**Purpose**\n",
        "\n",
        "This notebook was created to display some python basics using the Jupyter Platform\n",
        "\n",
        "----\n",
        "\n",
        "## Using the requests module to download a dataset file\n",
        "\n",
        "* Requests is an elegant and simple HTTP library for Python, built for human beings.\n",
        "  * Reference: https://requests.readthedocs.io/en/master/\n"
      ]
    },
    {
      "cell_type": "code",
      "metadata": {
        "id": "jt31ZXcFrkBz"
      },
      "source": [
        "import requests\n",
        "\n",
        "# Data Source: DataAtlanta - http://hackhpc.org/data/#local\n",
        "url = 'https://nwis.waterdata.usgs.gov/nwis/uv?cb_00010=on&cb_00060=on&cb_00065=on&cb_00095=on&cb_00300=on&cb_00400=on&cb_63680=on&format=rdb&site_no=02336240&period=&begin_date=2020-01-01&end_date=2020-10-07'"
      ],
      "execution_count": 1,
      "outputs": []
    },
    {
      "cell_type": "code",
      "metadata": {
        "id": "7mM4_zxzrkB7"
      },
      "source": [
        "# Downloads the web request using the provided url\n",
        "r = requests.get(url)\n",
        "\n",
        "# Writes out the request as a tab seperated value (tsv) file \n",
        "with open('atl-water-data.tsv', 'wb') as f:\n",
        "    f.write(r.content)"
      ],
      "execution_count": 2,
      "outputs": []
    },
    {
      "cell_type": "markdown",
      "metadata": {
        "id": "ECyw1amIrkB_"
      },
      "source": [
        "## Using the os library to perform a directory listing\n",
        "\n",
        "* The os module provides a portable way of using operating system dependent functionality.\n",
        "  * Reference: https://docs.python.org/3/library/os.html "
      ]
    },
    {
      "cell_type": "code",
      "metadata": {
        "id": "mH0v0Tn-rkCA",
        "outputId": "a7530af2-c056-4f09-9973-d6c997190f42"
      },
      "source": [
        "# Import the os library to list the files in the current directory\n",
        "import os\n",
        "# The empty () signifies listing the files in the current working directory \n",
        "print (os.listdir()) "
      ],
      "execution_count": null,
      "outputs": [
        {
          "output_type": "stream",
          "text": [
            "['.DS_Store', 'Google-colab_version.ipynb', 'atl-water-data.tsv', 'copy of dataset', 'Jupyter-Training.py', '.ipynb_checkpoints', 'Local-Conda-Jupyter_version.ipynb', 'replit_version.py']\n"
          ],
          "name": "stdout"
        }
      ]
    },
    {
      "cell_type": "code",
      "metadata": {
        "id": "MuXS9YA5rkCG",
        "outputId": "845fe479-96d7-4431-ae36-827b7c26f45f"
      },
      "source": [
        "# Preview the first few lines of the dataset file\n",
        "N = 45\n",
        "with open(\"atl-water-data.tsv\") as myfile:\n",
        "    head = [next(myfile) for x in range(N)]\n",
        "for l in head:\n",
        "    print(l, end='')"
      ],
      "execution_count": null,
      "outputs": [
        {
          "output_type": "stream",
          "text": [
            "# ---------------------------------- WARNING ----------------------------------------\n",
            "# Some of the data that you have obtained from this U.S. Geological Survey database\n",
            "# may not have received Director's approval. Any such data values are qualified\n",
            "# as provisional and are subject to revision. Provisional data are released on the\n",
            "# condition that neither the USGS nor the United States Government may be held liable\n",
            "# for any damages resulting from its use.\n",
            "#\n",
            "# Additional info: https://help.waterdata.usgs.gov/policies/provisional-data-statement\n",
            "#\n",
            "# File-format description:  https://help.waterdata.usgs.gov/faq/about-tab-delimited-output\n",
            "# Automated-retrieval info: https://help.waterdata.usgs.gov/faq/automated-retrievals\n",
            "#\n",
            "# Contact:   gs-w_support_nwisweb@usgs.gov\n",
            "# retrieved: 2020-10-08 10:27:57 EDT       (nadww02)\n",
            "#\n",
            "# Data for the following 1 site(s) are contained in this file\n",
            "#    USGS 02336240 S.F. PEACHTREE CREEK JOHNSON RD, NEAR ATLANTA, GA\n",
            "# -----------------------------------------------------------------------------------\n",
            "#\n",
            "# Data provided for site 02336240\n",
            "#            TS   parameter     Description\n",
            "#         39623       00065     Gage height, feet\n",
            "#         39624       00060     Discharge, cubic feet per second\n",
            "#         39626       00010     Temperature, water, degrees Celsius\n",
            "#         39627       00095     Specific conductance, water, unfiltered, microsiemens per centimeter at 25 degrees Celsius\n",
            "#         39628       00300     Dissolved oxygen, water, unfiltered, milligrams per liter\n",
            "#         39629       00400     pH, water, unfiltered, field, standard units\n",
            "#         39630       63680     Turbidity, water, unfiltered, monochrome near infra-red LED light, 780-900 nm, detection angle 90 +-2.5 degrees, formazin nephelometric units (FNU)\n",
            "#\n",
            "# Data-value qualification codes included in this output:\n",
            "#        \n",
            "#     A  Approved for publication -- Processing and review completed.\n",
            "#     P  Provisional data subject to revision.\n",
            "#     e  Value has been estimated.\n",
            "# \n",
            "agency_cd\tsite_no\tdatetime\ttz_cd\t39623_00065\t39623_00065_cd\t39624_00060\t39624_00060_cd\t39626_00010\t39626_00010_cd\t39627_00095\t39627_00095_cd\t39628_00300\t39628_00300_cd\t39629_00400\t39629_00400_cd\t39630_63680\t39630_63680_cd\n",
            "5s\t15s\t20d\t6s\t14n\t10s\t14n\t10s\t14n\t10s\t14n\t10s\t14n\t10s\t14n\t10s\t14n\t10s\n",
            "USGS\t02336240\t2020-01-01 00:00\tEST\t3.55\tA\t11.3\tA\t9.7\tA\t125\tA\t10.3\tA\t6.9\tA\t3.2\tA\n",
            "USGS\t02336240\t2020-01-01 00:15\tEST\t3.55\tA\t11.3\tA\t9.7\tA\t125\tA\t10.3\tA\t6.9\tA\t3.0\tA\n",
            "USGS\t02336240\t2020-01-01 00:30\tEST\t3.55\tA\t11.3\tA\t9.6\tA\t125\tA\t10.3\tA\t6.9\tA\t3.1\tA\n",
            "USGS\t02336240\t2020-01-01 00:45\tEST\t3.55\tA\t11.3\tA\t9.6\tA\t125\tA\t10.3\tA\t6.9\tA\t3.1\tA\n",
            "USGS\t02336240\t2020-01-01 01:00\tEST\t3.55\tA\t11.3\tA\t9.6\tA\t126\tA\t10.3\tA\t6.9\tA\t2.9\tA\n",
            "USGS\t02336240\t2020-01-01 01:15\tEST\t3.54\tA\t10.9\tA\t9.5\tA\t126\tA\t10.3\tA\t6.9\tA\t3.1\tA\n",
            "USGS\t02336240\t2020-01-01 01:30\tEST\t3.55\tA\t11.3\tA\t9.5\tA\t125\tA\t10.4\tA\t6.9\tA\t3.2\tA\n",
            "USGS\t02336240\t2020-01-01 01:45\tEST\t3.55\tA\t11.3\tA\t9.4\tA\t126\tA\t10.3\tA\t6.9\tA\t3.2\tA\n"
          ],
          "name": "stdout"
        }
      ]
    },
    {
      "cell_type": "markdown",
      "metadata": {
        "id": "tPGlOYqjrkCK"
      },
      "source": [
        "# Saving the dataset as a DataFrame using Pandas\n",
        "\n",
        "* Pandas is a fast, powerful, flexible and easy to use open source data analysis and manipulation tool, built on top of the Python programming language.\n",
        "  * Reference: https://pandas.pydata.org/"
      ]
    },
    {
      "cell_type": "code",
      "metadata": {
        "id": "U52bVDW-rkCL",
        "outputId": "c167569a-2437-464f-e113-4246d8994c65"
      },
      "source": [
        "# Import the tsv into a dataframe in Pandas\n",
        "import pandas as pd\n",
        "\n",
        "atlwaterDF = pd.read_csv('atl-water-data.tsv', sep='\\t', header=35)\n",
        "atlwaterDF = atlwaterDF.drop([0])\n",
        "atlwaterDF.head()"
      ],
      "execution_count": null,
      "outputs": [
        {
          "output_type": "execute_result",
          "data": {
            "text/html": [
              "<div>\n",
              "<style scoped>\n",
              "    .dataframe tbody tr th:only-of-type {\n",
              "        vertical-align: middle;\n",
              "    }\n",
              "\n",
              "    .dataframe tbody tr th {\n",
              "        vertical-align: top;\n",
              "    }\n",
              "\n",
              "    .dataframe thead th {\n",
              "        text-align: right;\n",
              "    }\n",
              "</style>\n",
              "<table border=\"1\" class=\"dataframe\">\n",
              "  <thead>\n",
              "    <tr style=\"text-align: right;\">\n",
              "      <th></th>\n",
              "      <th>agency_cd</th>\n",
              "      <th>site_no</th>\n",
              "      <th>datetime</th>\n",
              "      <th>tz_cd</th>\n",
              "      <th>39623_00065</th>\n",
              "      <th>39623_00065_cd</th>\n",
              "      <th>39624_00060</th>\n",
              "      <th>39624_00060_cd</th>\n",
              "      <th>39626_00010</th>\n",
              "      <th>39626_00010_cd</th>\n",
              "      <th>39627_00095</th>\n",
              "      <th>39627_00095_cd</th>\n",
              "      <th>39628_00300</th>\n",
              "      <th>39628_00300_cd</th>\n",
              "      <th>39629_00400</th>\n",
              "      <th>39629_00400_cd</th>\n",
              "      <th>39630_63680</th>\n",
              "      <th>39630_63680_cd</th>\n",
              "    </tr>\n",
              "  </thead>\n",
              "  <tbody>\n",
              "    <tr>\n",
              "      <th>1</th>\n",
              "      <td>USGS</td>\n",
              "      <td>02336240</td>\n",
              "      <td>2020-01-01 00:00</td>\n",
              "      <td>EST</td>\n",
              "      <td>3.55</td>\n",
              "      <td>A</td>\n",
              "      <td>11.3</td>\n",
              "      <td>A</td>\n",
              "      <td>9.7</td>\n",
              "      <td>A</td>\n",
              "      <td>125</td>\n",
              "      <td>A</td>\n",
              "      <td>10.3</td>\n",
              "      <td>A</td>\n",
              "      <td>6.9</td>\n",
              "      <td>A</td>\n",
              "      <td>3.2</td>\n",
              "      <td>A</td>\n",
              "    </tr>\n",
              "    <tr>\n",
              "      <th>2</th>\n",
              "      <td>USGS</td>\n",
              "      <td>02336240</td>\n",
              "      <td>2020-01-01 00:15</td>\n",
              "      <td>EST</td>\n",
              "      <td>3.55</td>\n",
              "      <td>A</td>\n",
              "      <td>11.3</td>\n",
              "      <td>A</td>\n",
              "      <td>9.7</td>\n",
              "      <td>A</td>\n",
              "      <td>125</td>\n",
              "      <td>A</td>\n",
              "      <td>10.3</td>\n",
              "      <td>A</td>\n",
              "      <td>6.9</td>\n",
              "      <td>A</td>\n",
              "      <td>3.0</td>\n",
              "      <td>A</td>\n",
              "    </tr>\n",
              "    <tr>\n",
              "      <th>3</th>\n",
              "      <td>USGS</td>\n",
              "      <td>02336240</td>\n",
              "      <td>2020-01-01 00:30</td>\n",
              "      <td>EST</td>\n",
              "      <td>3.55</td>\n",
              "      <td>A</td>\n",
              "      <td>11.3</td>\n",
              "      <td>A</td>\n",
              "      <td>9.6</td>\n",
              "      <td>A</td>\n",
              "      <td>125</td>\n",
              "      <td>A</td>\n",
              "      <td>10.3</td>\n",
              "      <td>A</td>\n",
              "      <td>6.9</td>\n",
              "      <td>A</td>\n",
              "      <td>3.1</td>\n",
              "      <td>A</td>\n",
              "    </tr>\n",
              "    <tr>\n",
              "      <th>4</th>\n",
              "      <td>USGS</td>\n",
              "      <td>02336240</td>\n",
              "      <td>2020-01-01 00:45</td>\n",
              "      <td>EST</td>\n",
              "      <td>3.55</td>\n",
              "      <td>A</td>\n",
              "      <td>11.3</td>\n",
              "      <td>A</td>\n",
              "      <td>9.6</td>\n",
              "      <td>A</td>\n",
              "      <td>125</td>\n",
              "      <td>A</td>\n",
              "      <td>10.3</td>\n",
              "      <td>A</td>\n",
              "      <td>6.9</td>\n",
              "      <td>A</td>\n",
              "      <td>3.1</td>\n",
              "      <td>A</td>\n",
              "    </tr>\n",
              "    <tr>\n",
              "      <th>5</th>\n",
              "      <td>USGS</td>\n",
              "      <td>02336240</td>\n",
              "      <td>2020-01-01 01:00</td>\n",
              "      <td>EST</td>\n",
              "      <td>3.55</td>\n",
              "      <td>A</td>\n",
              "      <td>11.3</td>\n",
              "      <td>A</td>\n",
              "      <td>9.6</td>\n",
              "      <td>A</td>\n",
              "      <td>126</td>\n",
              "      <td>A</td>\n",
              "      <td>10.3</td>\n",
              "      <td>A</td>\n",
              "      <td>6.9</td>\n",
              "      <td>A</td>\n",
              "      <td>2.9</td>\n",
              "      <td>A</td>\n",
              "    </tr>\n",
              "  </tbody>\n",
              "</table>\n",
              "</div>"
            ],
            "text/plain": [
              "  agency_cd   site_no          datetime tz_cd 39623_00065 39623_00065_cd  \\\n",
              "1      USGS  02336240  2020-01-01 00:00   EST        3.55              A   \n",
              "2      USGS  02336240  2020-01-01 00:15   EST        3.55              A   \n",
              "3      USGS  02336240  2020-01-01 00:30   EST        3.55              A   \n",
              "4      USGS  02336240  2020-01-01 00:45   EST        3.55              A   \n",
              "5      USGS  02336240  2020-01-01 01:00   EST        3.55              A   \n",
              "\n",
              "  39624_00060 39624_00060_cd 39626_00010 39626_00010_cd 39627_00095  \\\n",
              "1        11.3              A         9.7              A         125   \n",
              "2        11.3              A         9.7              A         125   \n",
              "3        11.3              A         9.6              A         125   \n",
              "4        11.3              A         9.6              A         125   \n",
              "5        11.3              A         9.6              A         126   \n",
              "\n",
              "  39627_00095_cd 39628_00300 39628_00300_cd 39629_00400 39629_00400_cd  \\\n",
              "1              A        10.3              A         6.9              A   \n",
              "2              A        10.3              A         6.9              A   \n",
              "3              A        10.3              A         6.9              A   \n",
              "4              A        10.3              A         6.9              A   \n",
              "5              A        10.3              A         6.9              A   \n",
              "\n",
              "  39630_63680 39630_63680_cd  \n",
              "1         3.2              A  \n",
              "2         3.0              A  \n",
              "3         3.1              A  \n",
              "4         3.1              A  \n",
              "5         2.9              A  "
            ]
          },
          "metadata": {
            "tags": []
          },
          "execution_count": 9
        }
      ]
    },
    {
      "cell_type": "markdown",
      "metadata": {
        "id": "o381vnOUrkCR"
      },
      "source": [
        "# Header information provided by the downloaded file\n",
        "\n",
        "Data for the following 1 site(s) are contained in this file\n",
        " USGS 02336240 S.F. PEACHTREE CREEK JOHNSON RD, NEAR ATLANTA, GA\n",
        "\n",
        "-----------------------------------------------------------------------------------\n",
        "\n",
        " Data provided for site 02336240\n",
        " \n",
        " \n",
        "|    TS |  parameter  |   Description                                             |\n",
        "|-------|-------------|-----------------------------------------------------------|\n",
        "|39623  |     00065   |  Gage height, feet                                        |\n",
        "|39624  |     00060   |  Discharge, cubic feet per second                         |\n",
        "|39626  |     00010   |  Temperature, water, degrees Celsius                      |\n",
        "|39627  |     00095   |  Specific conductance, water, unfiltered                  |\n",
        "|39628  |     00300   |  Dissolved oxygen, water, unfiltered, milligrams per liter|\n",
        "|39629  |     00400   |  pH, water, unfiltered, field, standard units             |\n",
        "| 39630 |      63680  |   Turbidity, water, unfiltered                            |\n",
        "        "
      ]
    },
    {
      "cell_type": "markdown",
      "metadata": {
        "id": "mD1e-NBdrkCR"
      },
      "source": [
        "# Dataframe basic statisical analysis\n",
        "\n",
        "The .describe() method can be used to show general information regarding a large dataset."
      ]
    },
    {
      "cell_type": "code",
      "metadata": {
        "id": "kdlWwbvUrkCS",
        "outputId": "f91011a6-5f61-4360-eae6-d58e2b2eb315"
      },
      "source": [
        "atlwaterDF.describe()"
      ],
      "execution_count": null,
      "outputs": [
        {
          "output_type": "execute_result",
          "data": {
            "text/html": [
              "<div>\n",
              "<style scoped>\n",
              "    .dataframe tbody tr th:only-of-type {\n",
              "        vertical-align: middle;\n",
              "    }\n",
              "\n",
              "    .dataframe tbody tr th {\n",
              "        vertical-align: top;\n",
              "    }\n",
              "\n",
              "    .dataframe thead th {\n",
              "        text-align: right;\n",
              "    }\n",
              "</style>\n",
              "<table border=\"1\" class=\"dataframe\">\n",
              "  <thead>\n",
              "    <tr style=\"text-align: right;\">\n",
              "      <th></th>\n",
              "      <th>agency_cd</th>\n",
              "      <th>site_no</th>\n",
              "      <th>datetime</th>\n",
              "      <th>tz_cd</th>\n",
              "      <th>39623_00065</th>\n",
              "      <th>39623_00065_cd</th>\n",
              "      <th>39624_00060</th>\n",
              "      <th>39624_00060_cd</th>\n",
              "      <th>39626_00010</th>\n",
              "      <th>39626_00010_cd</th>\n",
              "      <th>39627_00095</th>\n",
              "      <th>39627_00095_cd</th>\n",
              "      <th>39628_00300</th>\n",
              "      <th>39628_00300_cd</th>\n",
              "      <th>39629_00400</th>\n",
              "      <th>39629_00400_cd</th>\n",
              "      <th>39630_63680</th>\n",
              "      <th>39630_63680_cd</th>\n",
              "    </tr>\n",
              "  </thead>\n",
              "  <tbody>\n",
              "    <tr>\n",
              "      <th>count</th>\n",
              "      <td>26969</td>\n",
              "      <td>26969</td>\n",
              "      <td>26969</td>\n",
              "      <td>26969</td>\n",
              "      <td>26577</td>\n",
              "      <td>26577</td>\n",
              "      <td>26622</td>\n",
              "      <td>26622</td>\n",
              "      <td>25365</td>\n",
              "      <td>25365</td>\n",
              "      <td>23188</td>\n",
              "      <td>23188</td>\n",
              "      <td>23802</td>\n",
              "      <td>23802</td>\n",
              "      <td>25328</td>\n",
              "      <td>25328</td>\n",
              "      <td>19669</td>\n",
              "      <td>19669</td>\n",
              "    </tr>\n",
              "    <tr>\n",
              "      <th>unique</th>\n",
              "      <td>1</td>\n",
              "      <td>1</td>\n",
              "      <td>26969</td>\n",
              "      <td>2</td>\n",
              "      <td>524</td>\n",
              "      <td>2</td>\n",
              "      <td>674</td>\n",
              "      <td>3</td>\n",
              "      <td>250</td>\n",
              "      <td>2</td>\n",
              "      <td>169</td>\n",
              "      <td>2</td>\n",
              "      <td>74</td>\n",
              "      <td>2</td>\n",
              "      <td>17</td>\n",
              "      <td>2</td>\n",
              "      <td>1117</td>\n",
              "      <td>2</td>\n",
              "    </tr>\n",
              "    <tr>\n",
              "      <th>top</th>\n",
              "      <td>USGS</td>\n",
              "      <td>02336240</td>\n",
              "      <td>2020-09-07 12:30</td>\n",
              "      <td>EDT</td>\n",
              "      <td>3.66</td>\n",
              "      <td>A</td>\n",
              "      <td>15.3</td>\n",
              "      <td>A</td>\n",
              "      <td>24.4</td>\n",
              "      <td>A</td>\n",
              "      <td>136</td>\n",
              "      <td>A</td>\n",
              "      <td>7.6</td>\n",
              "      <td>A</td>\n",
              "      <td>7.1</td>\n",
              "      <td>A</td>\n",
              "      <td>3.2</td>\n",
              "      <td>A</td>\n",
              "    </tr>\n",
              "    <tr>\n",
              "      <th>freq</th>\n",
              "      <td>26969</td>\n",
              "      <td>26969</td>\n",
              "      <td>1</td>\n",
              "      <td>20532</td>\n",
              "      <td>744</td>\n",
              "      <td>15578</td>\n",
              "      <td>853</td>\n",
              "      <td>15574</td>\n",
              "      <td>353</td>\n",
              "      <td>20029</td>\n",
              "      <td>1198</td>\n",
              "      <td>18306</td>\n",
              "      <td>907</td>\n",
              "      <td>18849</td>\n",
              "      <td>5473</td>\n",
              "      <td>19996</td>\n",
              "      <td>607</td>\n",
              "      <td>15685</td>\n",
              "    </tr>\n",
              "  </tbody>\n",
              "</table>\n",
              "</div>"
            ],
            "text/plain": [
              "       agency_cd   site_no          datetime  tz_cd 39623_00065  \\\n",
              "count      26969     26969             26969  26969       26577   \n",
              "unique         1         1             26969      2         524   \n",
              "top         USGS  02336240  2020-09-07 12:30    EDT        3.66   \n",
              "freq       26969     26969                 1  20532         744   \n",
              "\n",
              "       39623_00065_cd 39624_00060 39624_00060_cd 39626_00010 39626_00010_cd  \\\n",
              "count           26577       26622          26622       25365          25365   \n",
              "unique              2         674              3         250              2   \n",
              "top                 A        15.3              A        24.4              A   \n",
              "freq            15578         853          15574         353          20029   \n",
              "\n",
              "       39627_00095 39627_00095_cd 39628_00300 39628_00300_cd 39629_00400  \\\n",
              "count        23188          23188       23802          23802       25328   \n",
              "unique         169              2          74              2          17   \n",
              "top            136              A         7.6              A         7.1   \n",
              "freq          1198          18306         907          18849        5473   \n",
              "\n",
              "       39629_00400_cd 39630_63680 39630_63680_cd  \n",
              "count           25328       19669          19669  \n",
              "unique              2        1117              2  \n",
              "top                 A         3.2              A  \n",
              "freq            19996         607          15685  "
            ]
          },
          "metadata": {
            "tags": []
          },
          "execution_count": 10
        }
      ]
    },
    {
      "cell_type": "markdown",
      "metadata": {
        "id": "eGmo3qDyrkCX"
      },
      "source": [
        "# Plotting a dataset using Matplotlib\n",
        "\n",
        "* Matplotlib is a comprehensive library for creating static, animated, and interactive visualizations in Python.\n",
        "  * Reference: https://matplotlib.org/\n",
        "\n",
        "In the below graph we could be looking at Dissolve Oxygen (39628_00300\tDissolved oxygen) as a metric for water quality health from January - October 2020\n"
      ]
    },
    {
      "cell_type": "code",
      "metadata": {
        "id": "G0M0hX-KrkCY",
        "outputId": "86ec65c1-b81e-45b2-d047-f1f57db1e98d"
      },
      "source": [
        "# matplotlib library needed to produce plots\n",
        "import matplotlib.pyplot as plt\n",
        "plt.close('all')\n",
        "plt.figure()\n",
        "#Using the dataframe with the dataset, defining the needed column, \n",
        "#converting the datatype from string into numbers and then ploting the results\n",
        "atlwaterDF['39628_00300'].apply(pd.to_numeric).plot()"
      ],
      "execution_count": null,
      "outputs": [
        {
          "output_type": "execute_result",
          "data": {
            "text/plain": [
              "<matplotlib.axes._subplots.AxesSubplot at 0x7fc19d1907d0>"
            ]
          },
          "metadata": {
            "tags": []
          },
          "execution_count": 57
        },
        {
          "output_type": "display_data",
          "data": {
            "image/png": "[encoded data removed]",
            "text/plain": [
              "<Figure size 432x288 with 1 Axes>"
            ]
          },
          "metadata": {
            "tags": [],
            "needs_background": "light"
          }
        }
      ]
    },
    {
      "cell_type": "code",
      "metadata": {
        "id": "WnOoXyHarkCh"
      },
      "source": [
        ""
      ],
      "execution_count": null,
      "outputs": []
    },
    {
      "cell_type": "code",
      "metadata": {
        "id": "5bxjWPQcsAWn"
      },
      "source": [
        "from google.colab import drive\n",
        "drive.mount('/content/drive')"
      ],
      "execution_count": null,
      "outputs": []
    }
  ]
}