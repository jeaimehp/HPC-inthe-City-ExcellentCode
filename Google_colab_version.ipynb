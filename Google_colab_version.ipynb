{
  "nbformat": 4,
  "nbformat_minor": 0,
  "metadata": {
    "kernelspec": {
      "display_name": "Python 3",
      "language": "python",
      "name": "python3"
    },
    "language_info": {
      "codemirror_mode": {
        "name": "ipython",
        "version": 3
      },
      "file_extension": ".py",
      "mimetype": "text/x-python",
      "name": "python",
      "nbconvert_exporter": "python",
      "pygments_lexer": "ipython3",
      "version": "3.7.6"
    },
    "colab": {
      "name": "Google-colab_version.ipynb",
      "provenance": [],
      "toc_visible": true,
      "include_colab_link": true
    }
  },
  "cells": [
    {
      "cell_type": "markdown",
      "metadata": {
        "id": "view-in-github",
        "colab_type": "text"
      },
      "source": [
        "<a href=\"https://colab.research.google.com/github/jeaimehp/HPC-inthe-City-ExcellentCode/blob/master/Google_colab_version.ipynb\" target=\"_parent\"><img src=\"https://colab.research.google.com/assets/colab-badge.svg\" alt=\"Open In Colab\"/></a>"
      ]
    },
    {
      "cell_type": "markdown",
      "metadata": {
        "id": "IDYKqD9EOPLk"
      },
      "source": [
        "# HPC in the City Jupyter Training\n",
        "\n",
        "**Purpose**\n",
        "\n",
        "This notebook was created to display some python basics using the Jupyter Platform\n",
        "\n",
        "----\n",
        "\n",
        "## Using the requests module to download a dataset file\n"
      ]
    },
    {
      "cell_type": "code",
      "metadata": {
        "id": "fShinJdYOPLl"
      },
      "source": [
        "import requests\n",
        "\n",
        "# Data Source: DataAtlanta - http://hackhpc.org/data/#local\n",
        "url = 'https://nwis.waterdata.usgs.gov/nwis/uv?cb_00010=on&cb_00060=on&cb_00065=on&cb_00095=on&cb_00300=on&cb_00400=on&cb_63680=on&format=rdb&site_no=02336240&period=&begin_date=2020-01-01&end_date=2020-10-07'"
      ],
      "execution_count": 1,
      "outputs": []
    },
    {
      "cell_type": "code",
      "metadata": {
        "id": "XTcXbof7OPLo"
      },
      "source": [
        "# Downloads the web request using the provided url\n",
        "r = requests.get(url)\n",
        "\n",
        "# Writes out the request as a tab seperated value (tsv) file \n",
        "with open('atl-water-data.tsv', 'wb') as f:\n",
        "    f.write(r.content)"
      ],
      "execution_count": 2,
      "outputs": []
    },
    {
      "cell_type": "code",
      "metadata": {
        "id": "R-cTQZzhOPLr",
        "outputId": "5020493c-0d5e-4d00-dfc5-893aed45f34b",
        "colab": {
          "base_uri": "https://localhost:8080/",
          "height": 34
        }
      },
      "source": [
        "# Import the os library to list the files in the current directory\n",
        "import os\n",
        "print (os.listdir())"
      ],
      "execution_count": 3,
      "outputs": [
        {
          "output_type": "stream",
          "text": [
            "['.config', 'atl-water-data.tsv', 'sample_data']\n"
          ],
          "name": "stdout"
        }
      ]
    },
    {
      "cell_type": "code",
      "metadata": {
        "id": "3vhGZ14qOPLt",
        "outputId": "5888c969-b4c3-4cab-bfae-1d76f41728cf",
        "colab": {
          "base_uri": "https://localhost:8080/",
          "height": 802
        }
      },
      "source": [
        "# Preview the first few lines of the dataset file\n",
        "N = 45\n",
        "with open(\"atl-water-data.tsv\") as myfile:\n",
        "    head = [next(myfile) for x in range(N)]\n",
        "for l in head:\n",
        "    print(l, end='')"
      ],
      "execution_count": 4,
      "outputs": [
        {
          "output_type": "stream",
          "text": [
            "# ---------------------------------- WARNING ----------------------------------------\n",
            "# Some of the data that you have obtained from this U.S. Geological Survey database\n",
            "# may not have received Director's approval. Any such data values are qualified\n",
            "# as provisional and are subject to revision. Provisional data are released on the\n",
            "# condition that neither the USGS nor the United States Government may be held liable\n",
            "# for any damages resulting from its use.\n",
            "#\n",
            "# Additional info: https://help.waterdata.usgs.gov/policies/provisional-data-statement\n",
            "#\n",
            "# File-format description:  https://help.waterdata.usgs.gov/faq/about-tab-delimited-output\n",
            "# Automated-retrieval info: https://help.waterdata.usgs.gov/faq/automated-retrievals\n",
            "#\n",
            "# Contact:   gs-w_support_nwisweb@usgs.gov\n",
            "# retrieved: 2020-10-08 09:44:58 EDT       (nadww01)\n",
            "#\n",
            "# Data for the following 1 site(s) are contained in this file\n",
            "#    USGS 02336240 S.F. PEACHTREE CREEK JOHNSON RD, NEAR ATLANTA, GA\n",
            "# -----------------------------------------------------------------------------------\n",
            "#\n",
            "# Data provided for site 02336240\n",
            "#            TS   parameter     Description\n",
            "#         39623       00065     Gage height, feet\n",
            "#         39624       00060     Discharge, cubic feet per second\n",
            "#         39626       00010     Temperature, water, degrees Celsius\n",
            "#         39627       00095     Specific conductance, water, unfiltered, microsiemens per centimeter at 25 degrees Celsius\n",
            "#         39628       00300     Dissolved oxygen, water, unfiltered, milligrams per liter\n",
            "#         39629       00400     pH, water, unfiltered, field, standard units\n",
            "#         39630       63680     Turbidity, water, unfiltered, monochrome near infra-red LED light, 780-900 nm, detection angle 90 +-2.5 degrees, formazin nephelometric units (FNU)\n",
            "#\n",
            "# Data-value qualification codes included in this output:\n",
            "#        \n",
            "#     A  Approved for publication -- Processing and review completed.\n",
            "#     P  Provisional data subject to revision.\n",
            "#     e  Value has been estimated.\n",
            "# \n",
            "agency_cd\tsite_no\tdatetime\ttz_cd\t39623_00065\t39623_00065_cd\t39624_00060\t39624_00060_cd\t39626_00010\t39626_00010_cd\t39627_00095\t39627_00095_cd\t39628_00300\t39628_00300_cd\t39629_00400\t39629_00400_cd\t39630_63680\t39630_63680_cd\n",
            "5s\t15s\t20d\t6s\t14n\t10s\t14n\t10s\t14n\t10s\t14n\t10s\t14n\t10s\t14n\t10s\t14n\t10s\n",
            "USGS\t02336240\t2020-01-01 00:00\tEST\t3.55\tA\t11.3\tA\t9.7\tA\t125\tA\t10.3\tA\t6.9\tA\t3.2\tA\n",
            "USGS\t02336240\t2020-01-01 00:15\tEST\t3.55\tA\t11.3\tA\t9.7\tA\t125\tA\t10.3\tA\t6.9\tA\t3.0\tA\n",
            "USGS\t02336240\t2020-01-01 00:30\tEST\t3.55\tA\t11.3\tA\t9.6\tA\t125\tA\t10.3\tA\t6.9\tA\t3.1\tA\n",
            "USGS\t02336240\t2020-01-01 00:45\tEST\t3.55\tA\t11.3\tA\t9.6\tA\t125\tA\t10.3\tA\t6.9\tA\t3.1\tA\n",
            "USGS\t02336240\t2020-01-01 01:00\tEST\t3.55\tA\t11.3\tA\t9.6\tA\t126\tA\t10.3\tA\t6.9\tA\t2.9\tA\n",
            "USGS\t02336240\t2020-01-01 01:15\tEST\t3.54\tA\t10.9\tA\t9.5\tA\t126\tA\t10.3\tA\t6.9\tA\t3.1\tA\n",
            "USGS\t02336240\t2020-01-01 01:30\tEST\t3.55\tA\t11.3\tA\t9.5\tA\t125\tA\t10.4\tA\t6.9\tA\t3.2\tA\n",
            "USGS\t02336240\t2020-01-01 01:45\tEST\t3.55\tA\t11.3\tA\t9.4\tA\t126\tA\t10.3\tA\t6.9\tA\t3.2\tA\n"
          ],
          "name": "stdout"
        }
      ]
    },
    {
      "cell_type": "markdown",
      "metadata": {
        "id": "3eRAUBCjOPLw"
      },
      "source": [
        "# Saving the dataset as a DataFrame"
      ]
    },
    {
      "cell_type": "code",
      "metadata": {
        "id": "yzrRgzpvOPLx",
        "outputId": "7e7cbf71-2e9f-4a2e-8b36-29b5cffaf8c1",
        "colab": {
          "base_uri": "https://localhost:8080/",
          "height": 309
        }
      },
      "source": [
        "# Import the tsv into a dataframe in Pandas\n",
        "import pandas as pd\n",
        "\n",
        "atlwaterDF = pd.read_csv('atl-water-data.tsv', sep='\\t', header=35)\n",
        "atlwaterDF = atlwaterDF.drop([0])\n",
        "atlwaterDF.head()"
      ],
      "execution_count": null,
      "outputs": [
        {
          "output_type": "execute_result",
          "data": {
            "text/html": [
              "<div>\n",
              "<style scoped>\n",
              "    .dataframe tbody tr th:only-of-type {\n",
              "        vertical-align: middle;\n",
              "    }\n",
              "\n",
              "    .dataframe tbody tr th {\n",
              "        vertical-align: top;\n",
              "    }\n",
              "\n",
              "    .dataframe thead th {\n",
              "        text-align: right;\n",
              "    }\n",
              "</style>\n",
              "<table border=\"1\" class=\"dataframe\">\n",
              "  <thead>\n",
              "    <tr style=\"text-align: right;\">\n",
              "      <th></th>\n",
              "      <th>agency_cd</th>\n",
              "      <th>site_no</th>\n",
              "      <th>datetime</th>\n",
              "      <th>tz_cd</th>\n",
              "      <th>39623_00065</th>\n",
              "      <th>39623_00065_cd</th>\n",
              "      <th>39624_00060</th>\n",
              "      <th>39624_00060_cd</th>\n",
              "      <th>39626_00010</th>\n",
              "      <th>39626_00010_cd</th>\n",
              "      <th>39627_00095</th>\n",
              "      <th>39627_00095_cd</th>\n",
              "      <th>39628_00300</th>\n",
              "      <th>39628_00300_cd</th>\n",
              "      <th>39629_00400</th>\n",
              "      <th>39629_00400_cd</th>\n",
              "      <th>39630_63680</th>\n",
              "      <th>39630_63680_cd</th>\n",
              "    </tr>\n",
              "  </thead>\n",
              "  <tbody>\n",
              "    <tr>\n",
              "      <th>1</th>\n",
              "      <td>USGS</td>\n",
              "      <td>02336240</td>\n",
              "      <td>2020-01-01 00:00</td>\n",
              "      <td>EST</td>\n",
              "      <td>3.55</td>\n",
              "      <td>A</td>\n",
              "      <td>11.3</td>\n",
              "      <td>A</td>\n",
              "      <td>9.7</td>\n",
              "      <td>A</td>\n",
              "      <td>125</td>\n",
              "      <td>A</td>\n",
              "      <td>10.3</td>\n",
              "      <td>A</td>\n",
              "      <td>6.9</td>\n",
              "      <td>A</td>\n",
              "      <td>3.2</td>\n",
              "      <td>A</td>\n",
              "    </tr>\n",
              "    <tr>\n",
              "      <th>2</th>\n",
              "      <td>USGS</td>\n",
              "      <td>02336240</td>\n",
              "      <td>2020-01-01 00:15</td>\n",
              "      <td>EST</td>\n",
              "      <td>3.55</td>\n",
              "      <td>A</td>\n",
              "      <td>11.3</td>\n",
              "      <td>A</td>\n",
              "      <td>9.7</td>\n",
              "      <td>A</td>\n",
              "      <td>125</td>\n",
              "      <td>A</td>\n",
              "      <td>10.3</td>\n",
              "      <td>A</td>\n",
              "      <td>6.9</td>\n",
              "      <td>A</td>\n",
              "      <td>3.0</td>\n",
              "      <td>A</td>\n",
              "    </tr>\n",
              "    <tr>\n",
              "      <th>3</th>\n",
              "      <td>USGS</td>\n",
              "      <td>02336240</td>\n",
              "      <td>2020-01-01 00:30</td>\n",
              "      <td>EST</td>\n",
              "      <td>3.55</td>\n",
              "      <td>A</td>\n",
              "      <td>11.3</td>\n",
              "      <td>A</td>\n",
              "      <td>9.6</td>\n",
              "      <td>A</td>\n",
              "      <td>125</td>\n",
              "      <td>A</td>\n",
              "      <td>10.3</td>\n",
              "      <td>A</td>\n",
              "      <td>6.9</td>\n",
              "      <td>A</td>\n",
              "      <td>3.1</td>\n",
              "      <td>A</td>\n",
              "    </tr>\n",
              "    <tr>\n",
              "      <th>4</th>\n",
              "      <td>USGS</td>\n",
              "      <td>02336240</td>\n",
              "      <td>2020-01-01 00:45</td>\n",
              "      <td>EST</td>\n",
              "      <td>3.55</td>\n",
              "      <td>A</td>\n",
              "      <td>11.3</td>\n",
              "      <td>A</td>\n",
              "      <td>9.6</td>\n",
              "      <td>A</td>\n",
              "      <td>125</td>\n",
              "      <td>A</td>\n",
              "      <td>10.3</td>\n",
              "      <td>A</td>\n",
              "      <td>6.9</td>\n",
              "      <td>A</td>\n",
              "      <td>3.1</td>\n",
              "      <td>A</td>\n",
              "    </tr>\n",
              "    <tr>\n",
              "      <th>5</th>\n",
              "      <td>USGS</td>\n",
              "      <td>02336240</td>\n",
              "      <td>2020-01-01 01:00</td>\n",
              "      <td>EST</td>\n",
              "      <td>3.55</td>\n",
              "      <td>A</td>\n",
              "      <td>11.3</td>\n",
              "      <td>A</td>\n",
              "      <td>9.6</td>\n",
              "      <td>A</td>\n",
              "      <td>126</td>\n",
              "      <td>A</td>\n",
              "      <td>10.3</td>\n",
              "      <td>A</td>\n",
              "      <td>6.9</td>\n",
              "      <td>A</td>\n",
              "      <td>2.9</td>\n",
              "      <td>A</td>\n",
              "    </tr>\n",
              "  </tbody>\n",
              "</table>\n",
              "</div>"
            ],
            "text/plain": [
              "  agency_cd   site_no  ... 39630_63680 39630_63680_cd\n",
              "1      USGS  02336240  ...         3.2              A\n",
              "2      USGS  02336240  ...         3.0              A\n",
              "3      USGS  02336240  ...         3.1              A\n",
              "4      USGS  02336240  ...         3.1              A\n",
              "5      USGS  02336240  ...         2.9              A\n",
              "\n",
              "[5 rows x 18 columns]"
            ]
          },
          "metadata": {
            "tags": []
          },
          "execution_count": 6
        }
      ]
    },
    {
      "cell_type": "markdown",
      "metadata": {
        "id": "JjAAEuOIOPLz"
      },
      "source": [
        "# Header information provided by the downloaded file\n",
        "\n",
        "Data for the following 1 site(s) are contained in this file\n",
        " USGS 02336240 S.F. PEACHTREE CREEK JOHNSON RD, NEAR ATLANTA, GA\n",
        "\n",
        "-----------------------------------------------------------------------------------\n",
        "\n",
        " Data provided for site 02336240\n",
        " \n",
        " \n",
        "|    TS |  parameter  |   Description                                             |\n",
        "|-------|-------------|-----------------------------------------------------------|\n",
        "|39623  |     00065   |  Gage height, feet                                        |\n",
        "|39624  |     00060   |  Discharge, cubic feet per second                         |\n",
        "|39626  |     00010   |  Temperature, water, degrees Celsius                      |\n",
        "|39627  |     00095   |  Specific conductance, water, unfiltered                  |\n",
        "|39628  |     00300   |  Dissolved oxygen, water, unfiltered, milligrams per liter|\n",
        "|39629  |     00400   |  pH, water, unfiltered, field, standard units             |\n",
        "| 39630 |      63680  |   Turbidity, water, unfiltered                            |\n",
        "        "
      ]
    },
    {
      "cell_type": "markdown",
      "metadata": {
        "id": "pp5cQCSMOPL0"
      },
      "source": [
        "# Dataframe basic statisical analysis\n",
        "\n",
        "The .describe() method can be used to show general information regarding a large dataset."
      ]
    },
    {
      "cell_type": "code",
      "metadata": {
        "id": "peyhPBvzOPL0",
        "outputId": "da080c21-b93d-48bb-deb3-7ec5ce5d3732",
        "colab": {
          "base_uri": "https://localhost:8080/",
          "height": 210
        }
      },
      "source": [
        "atlwaterDF.describe()"
      ],
      "execution_count": null,
      "outputs": [
        {
          "output_type": "execute_result",
          "data": {
            "text/html": [
              "<div>\n",
              "<style scoped>\n",
              "    .dataframe tbody tr th:only-of-type {\n",
              "        vertical-align: middle;\n",
              "    }\n",
              "\n",
              "    .dataframe tbody tr th {\n",
              "        vertical-align: top;\n",
              "    }\n",
              "\n",
              "    .dataframe thead th {\n",
              "        text-align: right;\n",
              "    }\n",
              "</style>\n",
              "<table border=\"1\" class=\"dataframe\">\n",
              "  <thead>\n",
              "    <tr style=\"text-align: right;\">\n",
              "      <th></th>\n",
              "      <th>agency_cd</th>\n",
              "      <th>site_no</th>\n",
              "      <th>datetime</th>\n",
              "      <th>tz_cd</th>\n",
              "      <th>39623_00065</th>\n",
              "      <th>39623_00065_cd</th>\n",
              "      <th>39624_00060</th>\n",
              "      <th>39624_00060_cd</th>\n",
              "      <th>39626_00010</th>\n",
              "      <th>39626_00010_cd</th>\n",
              "      <th>39627_00095</th>\n",
              "      <th>39627_00095_cd</th>\n",
              "      <th>39628_00300</th>\n",
              "      <th>39628_00300_cd</th>\n",
              "      <th>39629_00400</th>\n",
              "      <th>39629_00400_cd</th>\n",
              "      <th>39630_63680</th>\n",
              "      <th>39630_63680_cd</th>\n",
              "    </tr>\n",
              "  </thead>\n",
              "  <tbody>\n",
              "    <tr>\n",
              "      <th>count</th>\n",
              "      <td>26967</td>\n",
              "      <td>26967</td>\n",
              "      <td>26967</td>\n",
              "      <td>26967</td>\n",
              "      <td>26575</td>\n",
              "      <td>26575</td>\n",
              "      <td>26620</td>\n",
              "      <td>26620</td>\n",
              "      <td>25363</td>\n",
              "      <td>25363</td>\n",
              "      <td>23186</td>\n",
              "      <td>23186</td>\n",
              "      <td>23800</td>\n",
              "      <td>23800</td>\n",
              "      <td>25326</td>\n",
              "      <td>25326</td>\n",
              "      <td>19667</td>\n",
              "      <td>19667</td>\n",
              "    </tr>\n",
              "    <tr>\n",
              "      <th>unique</th>\n",
              "      <td>1</td>\n",
              "      <td>1</td>\n",
              "      <td>26967</td>\n",
              "      <td>2</td>\n",
              "      <td>524</td>\n",
              "      <td>2</td>\n",
              "      <td>674</td>\n",
              "      <td>3</td>\n",
              "      <td>250</td>\n",
              "      <td>2</td>\n",
              "      <td>169</td>\n",
              "      <td>2</td>\n",
              "      <td>74</td>\n",
              "      <td>2</td>\n",
              "      <td>17</td>\n",
              "      <td>2</td>\n",
              "      <td>1117</td>\n",
              "      <td>2</td>\n",
              "    </tr>\n",
              "    <tr>\n",
              "      <th>top</th>\n",
              "      <td>USGS</td>\n",
              "      <td>02336240</td>\n",
              "      <td>2020-09-19 20:30</td>\n",
              "      <td>EDT</td>\n",
              "      <td>3.66</td>\n",
              "      <td>A</td>\n",
              "      <td>15.3</td>\n",
              "      <td>A</td>\n",
              "      <td>24.4</td>\n",
              "      <td>A</td>\n",
              "      <td>136</td>\n",
              "      <td>A</td>\n",
              "      <td>7.6</td>\n",
              "      <td>A</td>\n",
              "      <td>7.1</td>\n",
              "      <td>A</td>\n",
              "      <td>3.2</td>\n",
              "      <td>A</td>\n",
              "    </tr>\n",
              "    <tr>\n",
              "      <th>freq</th>\n",
              "      <td>26967</td>\n",
              "      <td>26967</td>\n",
              "      <td>1</td>\n",
              "      <td>20530</td>\n",
              "      <td>743</td>\n",
              "      <td>15578</td>\n",
              "      <td>853</td>\n",
              "      <td>15574</td>\n",
              "      <td>353</td>\n",
              "      <td>20029</td>\n",
              "      <td>1198</td>\n",
              "      <td>18306</td>\n",
              "      <td>907</td>\n",
              "      <td>18849</td>\n",
              "      <td>5473</td>\n",
              "      <td>19996</td>\n",
              "      <td>607</td>\n",
              "      <td>15685</td>\n",
              "    </tr>\n",
              "  </tbody>\n",
              "</table>\n",
              "</div>"
            ],
            "text/plain": [
              "       agency_cd   site_no  ... 39630_63680 39630_63680_cd\n",
              "count      26967     26967  ...       19667          19667\n",
              "unique         1         1  ...        1117              2\n",
              "top         USGS  02336240  ...         3.2              A\n",
              "freq       26967     26967  ...         607          15685\n",
              "\n",
              "[4 rows x 18 columns]"
            ]
          },
          "metadata": {
            "tags": []
          },
          "execution_count": 7
        }
      ]
    },
    {
      "cell_type": "markdown",
      "metadata": {
        "id": "V2fOsk7UOPL3"
      },
      "source": [
        "# Plot one of the datasets\n",
        "\n",
        "In the below graph we could be looking at Dissolve Oxygen (39628_00300\tDissolved oxygen) as a metric for water quality health from January - October 2020\n"
      ]
    },
    {
      "cell_type": "code",
      "metadata": {
        "id": "XxiC00xCOPL4",
        "outputId": "26d02d4f-c569-43c8-e32c-04e7e503beed",
        "colab": {
          "base_uri": "https://localhost:8080/",
          "height": 282
        }
      },
      "source": [
        "# matplotlib library needed to produce plots\n",
        "import matplotlib.pyplot as plt\n",
        "plt.close('all')\n",
        "plt.figure()\n",
        "#Using the dataframe with the dataset, defining the needed column, \n",
        "#converting the datatype from string into numbers and then ploting the results\n",
        "atlwaterDF['39628_00300'].apply(pd.to_numeric).plot()"
      ],
      "execution_count": null,
      "outputs": [
        {
          "output_type": "execute_result",
          "data": {
            "text/plain": [
              "<matplotlib.axes._subplots.AxesSubplot at 0x7f7264878748>"
            ]
          },
          "metadata": {
            "tags": []
          },
          "execution_count": 8
        },
        {
          "output_type": "display_data",
          "data": {
            "image/png": "[encoded data removed]",
            "text/plain": [
              "<Figure size 432x288 with 1 Axes>"
            ]
          },
          "metadata": {
            "tags": [],
            "needs_background": "light"
          }
        }
      ]
    },
    {
      "cell_type": "code",
      "metadata": {
        "id": "ECMhEdJrOPL6"
      },
      "source": [
        ""
      ],
      "execution_count": null,
      "outputs": []
    },
    {
      "cell_type": "markdown",
      "metadata": {
        "id": "1uNisb-BPlDP"
      },
      "source": [
        "# Adding and Saving to Google Drive"
      ]
    },
    {
      "cell_type": "code",
      "metadata": {
        "id": "oSyyiKjyOqmJ",
        "outputId": "debb74eb-f7fd-4ece-9f32-6af5cc05c169",
        "colab": {
          "base_uri": "https://localhost:8080/"
        }
      },
      "source": [
        "from google.colab import drive\n",
        "drive.mount('/content/drive/')"
      ],
      "execution_count": null,
      "outputs": [
        {
          "output_type": "stream",
          "text": [
            "Mounted at /content/drive/\n"
          ],
          "name": "stdout"
        }
      ]
    },
    {
      "cell_type": "code",
      "metadata": {
        "id": "2PzzThLBOy_A"
      },
      "source": [
        "atlwaterDF.to_csv(r'/content/drive/My Drive/HPC in the City Jupyter Training/dataset.csv')"
      ],
      "execution_count": null,
      "outputs": []
    },
    {
      "cell_type": "code",
      "metadata": {
        "id": "cyr1rYDZPd1M",
        "outputId": "ee1eaa61-851b-44b0-92f1-fbc1209415ae",
        "colab": {
          "base_uri": "https://localhost:8080/"
        }
      },
      "source": [
        "os.listdir('/content/drive/My Drive/HPC in the City Jupyter Training')"
      ],
      "execution_count": null,
      "outputs": [
        {
          "output_type": "execute_result",
          "data": {
            "text/plain": [
              "['.ipynb_checkpoints', 'dataset.csv']"
            ]
          },
          "metadata": {
            "tags": []
          },
          "execution_count": 11
        }
      ]
    },
    {
      "cell_type": "code",
      "metadata": {
        "id": "Qs_rxw8VPib2"
      },
      "source": [
        ""
      ],
      "execution_count": null,
      "outputs": []
    }
  ]
}